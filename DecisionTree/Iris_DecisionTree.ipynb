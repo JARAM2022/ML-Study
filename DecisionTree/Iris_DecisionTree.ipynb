{
 "cells": [
  {
   "cell_type": "code",
   "execution_count": 1,
   "id": "186233b3",
   "metadata": {},
   "outputs": [],
   "source": [
    "from sklearn.datasets import load_iris\n",
    "from sklearn import tree\n",
    "import graphviz\n",
    "import numpy as np"
   ]
  },
  {
   "cell_type": "markdown",
   "id": "f0bdc073",
   "metadata": {},
   "source": [
    "Attribute Information (4 Attributes):  \n",
    "- sepal length in cm\n",
    "- sepal width in cm\n",
    "- petal length in cm\n",
    "- petal width in cm  \n",
    "\n",
    "Class Information (3 Classes):\n",
    "- Iris Setosa\n",
    "- Iris Versicolour\n",
    "- Iris Virginica\n",
    "\n",
    "150 datas"
   ]
  },
  {
   "cell_type": "code",
   "execution_count": 2,
   "id": "d2b44d2d",
   "metadata": {},
   "outputs": [
    {
     "name": "stdout",
     "output_type": "stream",
     "text": [
      "<class 'numpy.ndarray'> <class 'numpy.ndarray'>\n"
     ]
    }
   ],
   "source": [
    "iris = load_iris()\n",
    "p = np.arange(len(iris['data']))\n",
    "np.random.shuffle(p)\n",
    "\n",
    "X, y = iris.data, iris.target\n",
    "X, y = X[p], y[p]\n",
    "train_X, train_y, test_X, test_y = X[:120], y[:120], X[120:], y[120:]\n",
    "print(type(train_X), type(train_y))\n",
    "\n"
   ]
  },
  {
   "cell_type": "code",
   "execution_count": 18,
   "id": "4bfbcbcd",
   "metadata": {},
   "outputs": [
    {
     "data": {
      "text/plain": [
       "DecisionTreeClassifier(criterion='entropy', max_depth=6)"
      ]
     },
     "execution_count": 18,
     "metadata": {},
     "output_type": "execute_result"
    }
   ],
   "source": [
    "dtree = tree.DecisionTreeClassifier(criterion = \"entropy\", max_depth = 6 )\n",
    "dtree.fit(train_X,train_y)"
   ]
  },
  {
   "cell_type": "code",
   "execution_count": 19,
   "id": "9f61f0d9",
   "metadata": {
    "scrolled": true
   },
   "outputs": [
    {
     "data": {
      "text/plain": [
       "[Text(111.60000000000001, 199.32, 'X[2] <= 2.45\\nentropy = 1.581\\nsamples = 120\\nvalue = [44, 37, 39]'),\n",
       " Text(55.800000000000004, 163.07999999999998, 'entropy = 0.0\\nsamples = 44\\nvalue = [44, 0, 0]'),\n",
       " Text(167.4, 163.07999999999998, 'X[3] <= 1.65\\nentropy = 1.0\\nsamples = 76\\nvalue = [0, 37, 39]'),\n",
       " Text(111.60000000000001, 126.83999999999999, 'X[2] <= 4.95\\nentropy = 0.461\\nsamples = 41\\nvalue = [0, 37, 4]'),\n",
       " Text(55.800000000000004, 90.6, 'entropy = 0.0\\nsamples = 36\\nvalue = [0, 36, 0]'),\n",
       " Text(167.4, 90.6, 'X[3] <= 1.55\\nentropy = 0.722\\nsamples = 5\\nvalue = [0, 1, 4]'),\n",
       " Text(111.60000000000001, 54.359999999999985, 'entropy = 0.0\\nsamples = 3\\nvalue = [0, 0, 3]'),\n",
       " Text(223.20000000000002, 54.359999999999985, 'X[1] <= 2.85\\nentropy = 1.0\\nsamples = 2\\nvalue = [0, 1, 1]'),\n",
       " Text(167.4, 18.119999999999976, 'entropy = 0.0\\nsamples = 1\\nvalue = [0, 1, 0]'),\n",
       " Text(279.0, 18.119999999999976, 'entropy = 0.0\\nsamples = 1\\nvalue = [0, 0, 1]'),\n",
       " Text(223.20000000000002, 126.83999999999999, 'entropy = 0.0\\nsamples = 35\\nvalue = [0, 0, 35]')]"
      ]
     },
     "execution_count": 19,
     "metadata": {},
     "output_type": "execute_result"
    },
    {
     "data": {
      "image/png": "[encoded data removed]",
      "text/plain": [
       "<Figure size 432x288 with 1 Axes>"
      ]
     },
     "metadata": {
      "needs_background": "light"
     },
     "output_type": "display_data"
    }
   ],
   "source": [
    "tree.plot_tree(dtree)"
   ]
  },
  {
   "cell_type": "code",
   "execution_count": 5,
   "id": "bb64483c",
   "metadata": {},
   "outputs": [
    {
     "name": "stdout",
     "output_type": "stream",
     "text": [
      "[2 2 2 0 2 1 1 2 2 0 0 1 1 1 2 2 1 2 1 1 1 0 0 1 2 2 1 2 2 0]\n"
     ]
    }
   ],
   "source": [
    "pred = dtree.predict(test_X)\n",
    "print(pred)"
   ]
  },
  {
   "cell_type": "code",
   "execution_count": 6,
   "id": "fa09bb42",
   "metadata": {},
   "outputs": [
    {
     "name": "stdout",
     "output_type": "stream",
     "text": [
      "[0.00857417 0.         0.68752267 0.30390316]\n"
     ]
    }
   ],
   "source": [
    "print(dtree.feature_importances_)"
   ]
  },
  {
   "cell_type": "code",
   "execution_count": 7,
   "id": "daced5f5",
   "metadata": {},
   "outputs": [
    {
     "name": "stdout",
     "output_type": "stream",
     "text": [
      "5\n"
     ]
    }
   ],
   "source": [
    "print(dtree.get_n_leaves())"
   ]
  },
  {
   "cell_type": "code",
   "execution_count": 8,
   "id": "8b39f234",
   "metadata": {},
   "outputs": [
    {
     "name": "stdout",
     "output_type": "stream",
     "text": [
      "0.9333333333333333\n",
      "0.9333333333333333\n",
      "0.9435897435897436\n",
      "0.9333333333333332\n"
     ]
    },
    {
     "name": "stderr",
     "output_type": "stream",
     "text": [
      "C:\\ProgramData\\Anaconda3\\lib\\site-packages\\sklearn\\metrics\\_classification.py:1298: UserWarning: Note that pos_label (set to 'positive') is ignored when average != 'binary' (got 'weighted'). You may use labels=[pos_label] to specify a single positive class.\n",
      "  warnings.warn(\"Note that pos_label (set to %r) is ignored when \"\n",
      "C:\\ProgramData\\Anaconda3\\lib\\site-packages\\sklearn\\metrics\\_classification.py:1298: UserWarning: Note that pos_label (set to 'positive') is ignored when average != 'binary' (got 'weighted'). You may use labels=[pos_label] to specify a single positive class.\n",
      "  warnings.warn(\"Note that pos_label (set to %r) is ignored when \"\n",
      "C:\\ProgramData\\Anaconda3\\lib\\site-packages\\sklearn\\metrics\\_classification.py:1298: UserWarning: Note that pos_label (set to 'positive') is ignored when average != 'binary' (got 'weighted'). You may use labels=[pos_label] to specify a single positive class.\n",
      "  warnings.warn(\"Note that pos_label (set to %r) is ignored when \"\n"
     ]
    }
   ],
   "source": [
    "from sklearn.metrics import accuracy_score, recall_score, precision_score, f1_score\n",
    "print(accuracy_score(test_y, pred))\n",
    "print(recall_score(test_y, pred, pos_label='positive', average='weighted'))\n",
    "print(precision_score(test_y, pred, pos_label='positive', average='weighted'))\n",
    "print(f1_score(test_y, pred, pos_label='positive', average='weighted'))\n",
    "\n"
   ]
  },
  {
   "cell_type": "code",
   "execution_count": null,
   "id": "9b9f9a97",
   "metadata": {},
   "outputs": [],
   "source": []
  }
 ],
 "metadata": {
  "kernelspec": {
   "display_name": "Python 3 (ipykernel)",
   "language": "python",
   "name": "python3"
  },
  "language_info": {
   "codemirror_mode": {
    "name": "ipython",
    "version": 3
   },
   "file_extension": ".py",
   "mimetype": "text/x-python",
   "name": "python",
   "nbconvert_exporter": "python",
   "pygments_lexer": "ipython3",
   "version": "3.9.7"
  }
 },
 "nbformat": 4,
 "nbformat_minor": 5
}
