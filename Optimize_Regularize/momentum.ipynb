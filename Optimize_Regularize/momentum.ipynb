{
 "cells": [
  {
   "cell_type": "code",
   "execution_count": 1,
   "id": "48c3e56c",
   "metadata": {},
   "outputs": [],
   "source": [
    "import random\n",
    "import numpy as np\n",
    "import matplotlib.pyplot as plt\n",
    "\n",
    "def f(x):\n",
    "    return 5*x - 1000\n",
    "\n",
    "x = []\n",
    "for i in range(100):\n",
    "    x.append(random.uniform(-100,100))\n",
    "    \n",
    "y = []\n",
    "for i in range(100):\n",
    "    error = random.uniform(-100,100)\n",
    "    y.append(f(x[i]) + error)\n",
    "    "
   ]
  },
  {
   "cell_type": "code",
   "execution_count": 2,
   "id": "36e934a3",
   "metadata": {},
   "outputs": [
    {
     "data": {
      "image/png": "[encoded data removed]",
      "text/plain": [
       "<Figure size 432x288 with 1 Axes>"
      ]
     },
     "metadata": {
      "needs_background": "light"
     },
     "output_type": "display_data"
    }
   ],
   "source": [
    "plt.scatter(x, y)\n",
    "plt.show()"
   ]
  },
  {
   "cell_type": "code",
   "execution_count": 3,
   "id": "bb333444",
   "metadata": {},
   "outputs": [],
   "source": [
    "#for sgd\n",
    "#epochs = 500\n",
    "#lr = 0.00001\n",
    "#for momentum\n",
    "epochs = 500\n",
    "lr = 0.00011"
   ]
  },
  {
   "cell_type": "code",
   "execution_count": 4,
   "id": "4ea8f904",
   "metadata": {},
   "outputs": [],
   "source": [
    "class lin_model():\n",
    "    def __init__(self):\n",
    "        self.w = random.random()\n",
    "        self.b = random.random()\n",
    "        \n",
    "    def predict(self, x):\n",
    "        return self.w*x + self.b"
   ]
  },
  {
   "cell_type": "code",
   "execution_count": 5,
   "id": "66235d41",
   "metadata": {},
   "outputs": [],
   "source": [
    "def train(epochs, X, Y, model, momentum):\n",
    "    vw = 0.0\n",
    "    vb = 0.0\n",
    "    for epoch in range(epochs):\n",
    "        dw = 0.0\n",
    "        db = 0.0\n",
    "        cost = 0.0\n",
    "        for x, y in zip(X, Y):\n",
    "            pred = model.predict(x)\n",
    "            cost += (pred-y)**2\n",
    "            dw = 2*(pred-y)*x\n",
    "            db = 2*(pred-y)\n",
    "            vw = vw*momentum + dw*(1-momentum)\n",
    "            vb = vb*momentum + db*(1-momentum)\n",
    "            model.w -= lr*vw\n",
    "            model.b -= lr*vb\n",
    "    return cost\n",
    "    "
   ]
  },
  {
   "cell_type": "code",
   "execution_count": 6,
   "id": "88e64de1",
   "metadata": {},
   "outputs": [],
   "source": [
    "model = lin_model()"
   ]
  },
  {
   "cell_type": "code",
   "execution_count": 7,
   "id": "0e543c3a",
   "metadata": {},
   "outputs": [
    {
     "name": "stdout",
     "output_type": "stream",
     "text": [
      "515425.3981073337\n",
      "5.507223035987623 -1001.8643392688283\n",
      "train_finished\n"
     ]
    }
   ],
   "source": [
    "\n",
    "cost = train(epochs, x, y, model, 0.9)\n",
    "print(cost)\n",
    "print(str(model.w) + ' ' + str(model.b))\n",
    "print('train_finished')\n",
    "    "
   ]
  },
  {
   "cell_type": "code",
   "execution_count": 8,
   "id": "bd764d15",
   "metadata": {},
   "outputs": [
    {
     "data": {
      "image/png": "[encoded data removed]",
      "text/plain": [
       "<Figure size 432x288 with 1 Axes>"
      ]
     },
     "metadata": {
      "needs_background": "light"
     },
     "output_type": "display_data"
    }
   ],
   "source": [
    "pred1 = model.predict(-100)\n",
    "pred2 = model.predict(100)\n",
    "plt.scatter(x, y)\n",
    "plt.plot([-100,100], [pred1, pred2], color = \"blue\", linewidth = 3)\n",
    "plt.show()"
   ]
  },
  {
   "cell_type": "code",
   "execution_count": null,
   "id": "05ea371f",
   "metadata": {},
   "outputs": [],
   "source": []
  },
  {
   "cell_type": "code",
   "execution_count": null,
   "id": "9c4aa411",
   "metadata": {},
   "outputs": [],
   "source": []
  },
  {
   "cell_type": "code",
   "execution_count": null,
   "id": "97f61fa9",
   "metadata": {},
   "outputs": [],
   "source": []
  }
 ],
 "metadata": {
  "kernelspec": {
   "display_name": "Python 3 (ipykernel)",
   "language": "python",
   "name": "python3"
  },
  "language_info": {
   "codemirror_mode": {
    "name": "ipython",
    "version": 3
   },
   "file_extension": ".py",
   "mimetype": "text/x-python",
   "name": "python",
   "nbconvert_exporter": "python",
   "pygments_lexer": "ipython3",
   "version": "3.9.7"
  }
 },
 "nbformat": 4,
 "nbformat_minor": 5
}
